{
 "cells": [
  {
   "cell_type": "markdown",
   "id": "ffc4c634-67c5-415c-b873-56380899f1c8",
   "metadata": {},
   "source": [
    "The dataset used is:https://www.youtube.com/redirect?event=video_description&redir_token=QUFFLUhqa3VRajBfcmlDTW5hdWYxWS1WU1I2UEEyc2VxZ3xBQ3Jtc0tuSDhlTl9yNnpQbVBWWUdZN3RvVk5wMjZjb0NoVF9BdlFkNV9TRFN1WDdvV2JLbmdYWW02bFVEeTdUNXhGYWh3enVLYzBZMlNxMHlwaFNGdWlqVTVWRWNOMktxalRCZHNwZGM0cU9HeW5Bal9kX1RBUQ&q=https%3A%2F%2Ffiles.grouplens.org%2Fdatasets%2Fmovielens%2Fml-25m.zip&v=eyEabQRBMQA\n",
    "\n",
    "The project was made with the tutorial from dataquest yt"
   ]
  },
  {
   "cell_type": "code",
   "execution_count": 1,
   "id": "737bd988-c2c9-4490-b79b-cbb2f15c53ca",
   "metadata": {
    "ExecuteTime": {
     "end_time": "2023-12-01T17:13:59.673584Z",
     "start_time": "2023-12-01T17:13:59.220464Z"
    },
    "tags": []
   },
   "outputs": [],
   "source": [
    "import pandas as pd\n",
    "import numpy as np\n",
    "movies=pd.read_csv(r\"D:\\ML(imp)\\ml-25m\\movies.csv\")"
   ]
  },
  {
   "cell_type": "code",
   "execution_count": 2,
   "id": "05a7a0d1-3c21-47ce-9ffd-8078329d0f7e",
   "metadata": {
    "ExecuteTime": {
     "end_time": "2023-12-01T17:13:59.698915Z",
     "start_time": "2023-12-01T17:13:59.673584Z"
    },
    "tags": []
   },
   "outputs": [
    {
     "data": {
      "text/html": [
       "<div>\n",
       "<style scoped>\n",
       "    .dataframe tbody tr th:only-of-type {\n",
       "        vertical-align: middle;\n",
       "    }\n",
       "\n",
       "    .dataframe tbody tr th {\n",
       "        vertical-align: top;\n",
       "    }\n",
       "\n",
       "    .dataframe thead th {\n",
       "        text-align: right;\n",
       "    }\n",
       "</style>\n",
       "<table border=\"1\" class=\"dataframe\">\n",
       "  <thead>\n",
       "    <tr style=\"text-align: right;\">\n",
       "      <th></th>\n",
       "      <th>movieId</th>\n",
       "      <th>title</th>\n",
       "      <th>genres</th>\n",
       "    </tr>\n",
       "  </thead>\n",
       "  <tbody>\n",
       "    <tr>\n",
       "      <th>0</th>\n",
       "      <td>1</td>\n",
       "      <td>Toy Story (1995)</td>\n",
       "      <td>Adventure|Animation|Children|Comedy|Fantasy</td>\n",
       "    </tr>\n",
       "    <tr>\n",
       "      <th>1</th>\n",
       "      <td>2</td>\n",
       "      <td>Jumanji (1995)</td>\n",
       "      <td>Adventure|Children|Fantasy</td>\n",
       "    </tr>\n",
       "    <tr>\n",
       "      <th>2</th>\n",
       "      <td>3</td>\n",
       "      <td>Grumpier Old Men (1995)</td>\n",
       "      <td>Comedy|Romance</td>\n",
       "    </tr>\n",
       "    <tr>\n",
       "      <th>3</th>\n",
       "      <td>4</td>\n",
       "      <td>Waiting to Exhale (1995)</td>\n",
       "      <td>Comedy|Drama|Romance</td>\n",
       "    </tr>\n",
       "    <tr>\n",
       "      <th>4</th>\n",
       "      <td>5</td>\n",
       "      <td>Father of the Bride Part II (1995)</td>\n",
       "      <td>Comedy</td>\n",
       "    </tr>\n",
       "    <tr>\n",
       "      <th>...</th>\n",
       "      <td>...</td>\n",
       "      <td>...</td>\n",
       "      <td>...</td>\n",
       "    </tr>\n",
       "    <tr>\n",
       "      <th>62418</th>\n",
       "      <td>209157</td>\n",
       "      <td>We (2018)</td>\n",
       "      <td>Drama</td>\n",
       "    </tr>\n",
       "    <tr>\n",
       "      <th>62419</th>\n",
       "      <td>209159</td>\n",
       "      <td>Window of the Soul (2001)</td>\n",
       "      <td>Documentary</td>\n",
       "    </tr>\n",
       "    <tr>\n",
       "      <th>62420</th>\n",
       "      <td>209163</td>\n",
       "      <td>Bad Poems (2018)</td>\n",
       "      <td>Comedy|Drama</td>\n",
       "    </tr>\n",
       "    <tr>\n",
       "      <th>62421</th>\n",
       "      <td>209169</td>\n",
       "      <td>A Girl Thing (2001)</td>\n",
       "      <td>(no genres listed)</td>\n",
       "    </tr>\n",
       "    <tr>\n",
       "      <th>62422</th>\n",
       "      <td>209171</td>\n",
       "      <td>Women of Devil's Island (1962)</td>\n",
       "      <td>Action|Adventure|Drama</td>\n",
       "    </tr>\n",
       "  </tbody>\n",
       "</table>\n",
       "<p>62423 rows × 3 columns</p>\n",
       "</div>"
      ],
      "text/plain": [
       "       movieId                               title  \\\n",
       "0            1                    Toy Story (1995)   \n",
       "1            2                      Jumanji (1995)   \n",
       "2            3             Grumpier Old Men (1995)   \n",
       "3            4            Waiting to Exhale (1995)   \n",
       "4            5  Father of the Bride Part II (1995)   \n",
       "...        ...                                 ...   \n",
       "62418   209157                           We (2018)   \n",
       "62419   209159           Window of the Soul (2001)   \n",
       "62420   209163                    Bad Poems (2018)   \n",
       "62421   209169                 A Girl Thing (2001)   \n",
       "62422   209171      Women of Devil's Island (1962)   \n",
       "\n",
       "                                            genres  \n",
       "0      Adventure|Animation|Children|Comedy|Fantasy  \n",
       "1                       Adventure|Children|Fantasy  \n",
       "2                                   Comedy|Romance  \n",
       "3                             Comedy|Drama|Romance  \n",
       "4                                           Comedy  \n",
       "...                                            ...  \n",
       "62418                                        Drama  \n",
       "62419                                  Documentary  \n",
       "62420                                 Comedy|Drama  \n",
       "62421                           (no genres listed)  \n",
       "62422                       Action|Adventure|Drama  \n",
       "\n",
       "[62423 rows x 3 columns]"
      ]
     },
     "execution_count": 2,
     "metadata": {},
     "output_type": "execute_result"
    }
   ],
   "source": [
    "movies"
   ]
  },
  {
   "cell_type": "code",
   "execution_count": 3,
   "id": "d4438f37-4514-4f86-9d99-48a334d3c0d9",
   "metadata": {
    "ExecuteTime": {
     "end_time": "2023-12-01T17:13:59.704317Z",
     "start_time": "2023-12-01T17:13:59.700842Z"
    },
    "tags": []
   },
   "outputs": [],
   "source": [
    "import re#regex\n",
    "\n",
    "def clean_title(title):\n",
    "    return re.sub(\"[^a-zA-Z0-9 ]\", \"\" ,title)#Take extra caution by adding a space after 9\n",
    "#This regex expression cleans the title of brackets and other such possible characters/expressions"
   ]
  },
  {
   "cell_type": "code",
   "execution_count": 4,
   "id": "d2d9c636-55be-4c26-bbeb-cbacc59791aa",
   "metadata": {
    "ExecuteTime": {
     "end_time": "2023-12-01T17:13:59.781058Z",
     "start_time": "2023-12-01T17:13:59.706348Z"
    },
    "tags": []
   },
   "outputs": [],
   "source": [
    "movies[\"clean_title\"]=movies[\"title\"].apply(clean_title) #applies clean_title to all the movie titles and creates a new column clean_title"
   ]
  },
  {
   "cell_type": "code",
   "execution_count": 5,
   "id": "38964dc4-a026-4d63-92fe-cfc1618629f1",
   "metadata": {
    "ExecuteTime": {
     "end_time": "2023-12-01T17:13:59.790371Z",
     "start_time": "2023-12-01T17:13:59.781058Z"
    },
    "tags": []
   },
   "outputs": [
    {
     "data": {
      "text/html": [
       "<div>\n",
       "<style scoped>\n",
       "    .dataframe tbody tr th:only-of-type {\n",
       "        vertical-align: middle;\n",
       "    }\n",
       "\n",
       "    .dataframe tbody tr th {\n",
       "        vertical-align: top;\n",
       "    }\n",
       "\n",
       "    .dataframe thead th {\n",
       "        text-align: right;\n",
       "    }\n",
       "</style>\n",
       "<table border=\"1\" class=\"dataframe\">\n",
       "  <thead>\n",
       "    <tr style=\"text-align: right;\">\n",
       "      <th></th>\n",
       "      <th>movieId</th>\n",
       "      <th>title</th>\n",
       "      <th>genres</th>\n",
       "      <th>clean_title</th>\n",
       "    </tr>\n",
       "  </thead>\n",
       "  <tbody>\n",
       "    <tr>\n",
       "      <th>0</th>\n",
       "      <td>1</td>\n",
       "      <td>Toy Story (1995)</td>\n",
       "      <td>Adventure|Animation|Children|Comedy|Fantasy</td>\n",
       "      <td>Toy Story 1995</td>\n",
       "    </tr>\n",
       "    <tr>\n",
       "      <th>1</th>\n",
       "      <td>2</td>\n",
       "      <td>Jumanji (1995)</td>\n",
       "      <td>Adventure|Children|Fantasy</td>\n",
       "      <td>Jumanji 1995</td>\n",
       "    </tr>\n",
       "    <tr>\n",
       "      <th>2</th>\n",
       "      <td>3</td>\n",
       "      <td>Grumpier Old Men (1995)</td>\n",
       "      <td>Comedy|Romance</td>\n",
       "      <td>Grumpier Old Men 1995</td>\n",
       "    </tr>\n",
       "    <tr>\n",
       "      <th>3</th>\n",
       "      <td>4</td>\n",
       "      <td>Waiting to Exhale (1995)</td>\n",
       "      <td>Comedy|Drama|Romance</td>\n",
       "      <td>Waiting to Exhale 1995</td>\n",
       "    </tr>\n",
       "    <tr>\n",
       "      <th>4</th>\n",
       "      <td>5</td>\n",
       "      <td>Father of the Bride Part II (1995)</td>\n",
       "      <td>Comedy</td>\n",
       "      <td>Father of the Bride Part II 1995</td>\n",
       "    </tr>\n",
       "    <tr>\n",
       "      <th>...</th>\n",
       "      <td>...</td>\n",
       "      <td>...</td>\n",
       "      <td>...</td>\n",
       "      <td>...</td>\n",
       "    </tr>\n",
       "    <tr>\n",
       "      <th>62418</th>\n",
       "      <td>209157</td>\n",
       "      <td>We (2018)</td>\n",
       "      <td>Drama</td>\n",
       "      <td>We 2018</td>\n",
       "    </tr>\n",
       "    <tr>\n",
       "      <th>62419</th>\n",
       "      <td>209159</td>\n",
       "      <td>Window of the Soul (2001)</td>\n",
       "      <td>Documentary</td>\n",
       "      <td>Window of the Soul 2001</td>\n",
       "    </tr>\n",
       "    <tr>\n",
       "      <th>62420</th>\n",
       "      <td>209163</td>\n",
       "      <td>Bad Poems (2018)</td>\n",
       "      <td>Comedy|Drama</td>\n",
       "      <td>Bad Poems 2018</td>\n",
       "    </tr>\n",
       "    <tr>\n",
       "      <th>62421</th>\n",
       "      <td>209169</td>\n",
       "      <td>A Girl Thing (2001)</td>\n",
       "      <td>(no genres listed)</td>\n",
       "      <td>A Girl Thing 2001</td>\n",
       "    </tr>\n",
       "    <tr>\n",
       "      <th>62422</th>\n",
       "      <td>209171</td>\n",
       "      <td>Women of Devil's Island (1962)</td>\n",
       "      <td>Action|Adventure|Drama</td>\n",
       "      <td>Women of Devils Island 1962</td>\n",
       "    </tr>\n",
       "  </tbody>\n",
       "</table>\n",
       "<p>62423 rows × 4 columns</p>\n",
       "</div>"
      ],
      "text/plain": [
       "       movieId                               title  \\\n",
       "0            1                    Toy Story (1995)   \n",
       "1            2                      Jumanji (1995)   \n",
       "2            3             Grumpier Old Men (1995)   \n",
       "3            4            Waiting to Exhale (1995)   \n",
       "4            5  Father of the Bride Part II (1995)   \n",
       "...        ...                                 ...   \n",
       "62418   209157                           We (2018)   \n",
       "62419   209159           Window of the Soul (2001)   \n",
       "62420   209163                    Bad Poems (2018)   \n",
       "62421   209169                 A Girl Thing (2001)   \n",
       "62422   209171      Women of Devil's Island (1962)   \n",
       "\n",
       "                                            genres  \\\n",
       "0      Adventure|Animation|Children|Comedy|Fantasy   \n",
       "1                       Adventure|Children|Fantasy   \n",
       "2                                   Comedy|Romance   \n",
       "3                             Comedy|Drama|Romance   \n",
       "4                                           Comedy   \n",
       "...                                            ...   \n",
       "62418                                        Drama   \n",
       "62419                                  Documentary   \n",
       "62420                                 Comedy|Drama   \n",
       "62421                           (no genres listed)   \n",
       "62422                       Action|Adventure|Drama   \n",
       "\n",
       "                            clean_title  \n",
       "0                        Toy Story 1995  \n",
       "1                          Jumanji 1995  \n",
       "2                 Grumpier Old Men 1995  \n",
       "3                Waiting to Exhale 1995  \n",
       "4      Father of the Bride Part II 1995  \n",
       "...                                 ...  \n",
       "62418                           We 2018  \n",
       "62419           Window of the Soul 2001  \n",
       "62420                    Bad Poems 2018  \n",
       "62421                 A Girl Thing 2001  \n",
       "62422       Women of Devils Island 1962  \n",
       "\n",
       "[62423 rows x 4 columns]"
      ]
     },
     "execution_count": 5,
     "metadata": {},
     "output_type": "execute_result"
    }
   ],
   "source": [
    "movies"
   ]
  },
  {
   "cell_type": "code",
   "execution_count": 6,
   "id": "2147b414-b887-4717-b6c6-6aeb3f39b491",
   "metadata": {
    "ExecuteTime": {
     "end_time": "2023-12-01T17:14:00.950822Z",
     "start_time": "2023-12-01T17:13:59.790371Z"
    },
    "tags": []
   },
   "outputs": [],
   "source": [
    "from sklearn.feature_extraction.text import TfidfVectorizer#Creates a tfidf matrix\n",
    "vectorizer=TfidfVectorizer(ngram_range=(1,2))\n",
    "tfidf=vectorizer.fit_transform(movies['clean_title'])"
   ]
  },
  {
   "cell_type": "code",
   "execution_count": 7,
   "id": "5a9c7576",
   "metadata": {
    "ExecuteTime": {
     "end_time": "2023-12-01T17:14:01.575093Z",
     "start_time": "2023-12-01T17:14:00.950822Z"
    }
   },
   "outputs": [
    {
     "name": "stdout",
     "output_type": "stream",
     "text": [
      "TF-IDF Matrix Shape: (62423, 170073)\n"
     ]
    }
   ],
   "source": [
    "from sklearn.feature_extraction.text import TfidfVectorizer\n",
    "\n",
    "# Assuming 'movies' is your DataFrame and 'clean_title' is a column containing movie titles\n",
    "vectorizer = TfidfVectorizer(ngram_range=(1, 2))\n",
    "tfidf = vectorizer.fit_transform(movies['clean_title'])\n",
    "\n",
    "# Check the shape of the TF-IDF matrix\n",
    "print(\"TF-IDF Matrix Shape:\", tfidf.shape)\n"
   ]
  },
  {
   "cell_type": "code",
   "execution_count": 8,
   "id": "58e6b45c-7683-4186-ab7d-0084f98d201a",
   "metadata": {
    "ExecuteTime": {
     "end_time": "2023-12-01T17:14:01.618156Z",
     "start_time": "2023-12-01T17:14:01.576100Z"
    },
    "tags": []
   },
   "outputs": [],
   "source": [
    "from sklearn.metrics.pairwise import cosine_similarity\n",
    "def search(title):\n",
    "    title=clean_title(title)\n",
    "    query_vec=vectorizer.transform([title])\n",
    "    similarity=cosine_similarity(query_vec,tfidf).flatten()#Find about types of similarity and vectorizer\n",
    "    indices=np.argpartition(similarity,-5)[-5:]# find working of argpartition\n",
    "    results=movies.iloc[indices][::-1]\n",
    "    return results"
   ]
  },
  {
   "cell_type": "code",
   "execution_count": 9,
   "id": "7c2f1a90-e2fb-4433-8e9a-5f06789cf083",
   "metadata": {
    "ExecuteTime": {
     "end_time": "2023-12-01T17:14:01.645876Z",
     "start_time": "2023-12-01T17:14:01.619805Z"
    },
    "tags": []
   },
   "outputs": [
    {
     "data": {
      "text/html": [
       "<div>\n",
       "<style scoped>\n",
       "    .dataframe tbody tr th:only-of-type {\n",
       "        vertical-align: middle;\n",
       "    }\n",
       "\n",
       "    .dataframe tbody tr th {\n",
       "        vertical-align: top;\n",
       "    }\n",
       "\n",
       "    .dataframe thead th {\n",
       "        text-align: right;\n",
       "    }\n",
       "</style>\n",
       "<table border=\"1\" class=\"dataframe\">\n",
       "  <thead>\n",
       "    <tr style=\"text-align: right;\">\n",
       "      <th></th>\n",
       "      <th>movieId</th>\n",
       "      <th>title</th>\n",
       "      <th>genres</th>\n",
       "      <th>clean_title</th>\n",
       "    </tr>\n",
       "  </thead>\n",
       "  <tbody>\n",
       "    <tr>\n",
       "      <th>48282</th>\n",
       "      <td>176331</td>\n",
       "      <td>Jab Harry met Sejal (2017)</td>\n",
       "      <td>Drama|Romance</td>\n",
       "      <td>Jab Harry met Sejal 2017</td>\n",
       "    </tr>\n",
       "    <tr>\n",
       "      <th>6359</th>\n",
       "      <td>6482</td>\n",
       "      <td>Dumb and Dumberer: When Harry Met Lloyd (2003)</td>\n",
       "      <td>Comedy</td>\n",
       "      <td>Dumb and Dumberer When Harry Met Lloyd 2003</td>\n",
       "    </tr>\n",
       "    <tr>\n",
       "      <th>1273</th>\n",
       "      <td>1307</td>\n",
       "      <td>When Harry Met Sally... (1989)</td>\n",
       "      <td>Comedy|Romance</td>\n",
       "      <td>When Harry Met Sally 1989</td>\n",
       "    </tr>\n",
       "    <tr>\n",
       "      <th>36280</th>\n",
       "      <td>149836</td>\n",
       "      <td>When Harry Tries to Marry (2011)</td>\n",
       "      <td>Comedy|Romance</td>\n",
       "      <td>When Harry Tries to Marry 2011</td>\n",
       "    </tr>\n",
       "    <tr>\n",
       "      <th>24656</th>\n",
       "      <td>122001</td>\n",
       "      <td>Sally (1929)</td>\n",
       "      <td>(no genres listed)</td>\n",
       "      <td>Sally 1929</td>\n",
       "    </tr>\n",
       "  </tbody>\n",
       "</table>\n",
       "</div>"
      ],
      "text/plain": [
       "       movieId                                           title  \\\n",
       "48282   176331                      Jab Harry met Sejal (2017)   \n",
       "6359      6482  Dumb and Dumberer: When Harry Met Lloyd (2003)   \n",
       "1273      1307                  When Harry Met Sally... (1989)   \n",
       "36280   149836                When Harry Tries to Marry (2011)   \n",
       "24656   122001                                    Sally (1929)   \n",
       "\n",
       "                   genres                                  clean_title  \n",
       "48282       Drama|Romance                     Jab Harry met Sejal 2017  \n",
       "6359               Comedy  Dumb and Dumberer When Harry Met Lloyd 2003  \n",
       "1273       Comedy|Romance                    When Harry Met Sally 1989  \n",
       "36280      Comedy|Romance               When Harry Tries to Marry 2011  \n",
       "24656  (no genres listed)                                   Sally 1929  "
      ]
     },
     "execution_count": 9,
     "metadata": {},
     "output_type": "execute_result"
    }
   ],
   "source": [
    "res=search(\"When Harry met Sally\")\n",
    "res"
   ]
  },
  {
   "cell_type": "markdown",
   "id": "85081e20-7c7c-44f1-a856-91f2f486bb84",
   "metadata": {
    "tags": []
   },
   "source": [
    "To make the search widget in jupyter we use ipywidgets"
   ]
  },
  {
   "cell_type": "code",
   "execution_count": 10,
   "id": "6cbd65a5-23f6-4a2c-8c04-85aca02a04f0",
   "metadata": {
    "ExecuteTime": {
     "end_time": "2023-12-01T17:14:01.702780Z",
     "start_time": "2023-12-01T17:14:01.646936Z"
    },
    "tags": []
   },
   "outputs": [
    {
     "data": {
      "application/vnd.jupyter.widget-view+json": {
       "model_id": "62e30dbc9201454c8c2caaf6d91991e8",
       "version_major": 2,
       "version_minor": 0
      },
      "text/plain": [
       "Text(value=' When Harry Met Sally', description='Movie Title:')"
      ]
     },
     "metadata": {},
     "output_type": "display_data"
    },
    {
     "data": {
      "application/vnd.jupyter.widget-view+json": {
       "model_id": "a47d28f786a04aa891a05a2b971d2d18",
       "version_major": 2,
       "version_minor": 0
      },
      "text/plain": [
       "Output()"
      ]
     },
     "metadata": {},
     "output_type": "display_data"
    }
   ],
   "source": [
    "import ipywidgets as widgets\n",
    "from IPython.display import display\n",
    "movie_input=widgets.Text(\n",
    "    value=\" When Harry Met Sally\",\n",
    "    description=\"Movie Title:\",\n",
    "    disabled=False\n",
    ")\n",
    "movie_list=widgets.Output()\n",
    "def on_type(data):\n",
    "    with movie_list:\n",
    "        movie_list.clear_output()\n",
    "        title=data[\"new\"]\n",
    "        if(len(title)>5):\n",
    "            display(search(title))\n",
    "\n",
    "\n",
    "movie_input.observe(on_type,names='value')\n",
    "display(movie_input,movie_list)"
   ]
  },
  {
   "cell_type": "code",
   "execution_count": 11,
   "id": "757f20b1-d158-4885-9ebd-0ecb106c037e",
   "metadata": {
    "ExecuteTime": {
     "end_time": "2023-12-01T17:14:07.206492Z",
     "start_time": "2023-12-01T17:14:01.703541Z"
    }
   },
   "outputs": [
    {
     "data": {
      "text/html": [
       "<div>\n",
       "<style scoped>\n",
       "    .dataframe tbody tr th:only-of-type {\n",
       "        vertical-align: middle;\n",
       "    }\n",
       "\n",
       "    .dataframe tbody tr th {\n",
       "        vertical-align: top;\n",
       "    }\n",
       "\n",
       "    .dataframe thead th {\n",
       "        text-align: right;\n",
       "    }\n",
       "</style>\n",
       "<table border=\"1\" class=\"dataframe\">\n",
       "  <thead>\n",
       "    <tr style=\"text-align: right;\">\n",
       "      <th></th>\n",
       "      <th>userId</th>\n",
       "      <th>movieId</th>\n",
       "      <th>rating</th>\n",
       "      <th>timestamp</th>\n",
       "    </tr>\n",
       "  </thead>\n",
       "  <tbody>\n",
       "    <tr>\n",
       "      <th>0</th>\n",
       "      <td>1</td>\n",
       "      <td>296</td>\n",
       "      <td>5.0</td>\n",
       "      <td>1147880044</td>\n",
       "    </tr>\n",
       "    <tr>\n",
       "      <th>1</th>\n",
       "      <td>1</td>\n",
       "      <td>306</td>\n",
       "      <td>3.5</td>\n",
       "      <td>1147868817</td>\n",
       "    </tr>\n",
       "    <tr>\n",
       "      <th>2</th>\n",
       "      <td>1</td>\n",
       "      <td>307</td>\n",
       "      <td>5.0</td>\n",
       "      <td>1147868828</td>\n",
       "    </tr>\n",
       "    <tr>\n",
       "      <th>3</th>\n",
       "      <td>1</td>\n",
       "      <td>665</td>\n",
       "      <td>5.0</td>\n",
       "      <td>1147878820</td>\n",
       "    </tr>\n",
       "    <tr>\n",
       "      <th>4</th>\n",
       "      <td>1</td>\n",
       "      <td>899</td>\n",
       "      <td>3.5</td>\n",
       "      <td>1147868510</td>\n",
       "    </tr>\n",
       "    <tr>\n",
       "      <th>...</th>\n",
       "      <td>...</td>\n",
       "      <td>...</td>\n",
       "      <td>...</td>\n",
       "      <td>...</td>\n",
       "    </tr>\n",
       "    <tr>\n",
       "      <th>25000090</th>\n",
       "      <td>162541</td>\n",
       "      <td>50872</td>\n",
       "      <td>4.5</td>\n",
       "      <td>1240953372</td>\n",
       "    </tr>\n",
       "    <tr>\n",
       "      <th>25000091</th>\n",
       "      <td>162541</td>\n",
       "      <td>55768</td>\n",
       "      <td>2.5</td>\n",
       "      <td>1240951998</td>\n",
       "    </tr>\n",
       "    <tr>\n",
       "      <th>25000092</th>\n",
       "      <td>162541</td>\n",
       "      <td>56176</td>\n",
       "      <td>2.0</td>\n",
       "      <td>1240950697</td>\n",
       "    </tr>\n",
       "    <tr>\n",
       "      <th>25000093</th>\n",
       "      <td>162541</td>\n",
       "      <td>58559</td>\n",
       "      <td>4.0</td>\n",
       "      <td>1240953434</td>\n",
       "    </tr>\n",
       "    <tr>\n",
       "      <th>25000094</th>\n",
       "      <td>162541</td>\n",
       "      <td>63876</td>\n",
       "      <td>5.0</td>\n",
       "      <td>1240952515</td>\n",
       "    </tr>\n",
       "  </tbody>\n",
       "</table>\n",
       "<p>25000095 rows × 4 columns</p>\n",
       "</div>"
      ],
      "text/plain": [
       "          userId  movieId  rating   timestamp\n",
       "0              1      296     5.0  1147880044\n",
       "1              1      306     3.5  1147868817\n",
       "2              1      307     5.0  1147868828\n",
       "3              1      665     5.0  1147878820\n",
       "4              1      899     3.5  1147868510\n",
       "...          ...      ...     ...         ...\n",
       "25000090  162541    50872     4.5  1240953372\n",
       "25000091  162541    55768     2.5  1240951998\n",
       "25000092  162541    56176     2.0  1240950697\n",
       "25000093  162541    58559     4.0  1240953434\n",
       "25000094  162541    63876     5.0  1240952515\n",
       "\n",
       "[25000095 rows x 4 columns]"
      ]
     },
     "execution_count": 11,
     "metadata": {},
     "output_type": "execute_result"
    }
   ],
   "source": [
    "ratings=pd.read_csv(r\"D:\\ML(imp)\\ml-25m\\ratings.csv\")\n",
    "ratings"
   ]
  },
  {
   "cell_type": "code",
   "execution_count": 12,
   "id": "774181b0",
   "metadata": {
    "ExecuteTime": {
     "end_time": "2023-12-01T17:14:07.341970Z",
     "start_time": "2023-12-01T17:14:07.208140Z"
    }
   },
   "outputs": [
    {
     "data": {
      "text/plain": [
       "array([     3,      5,      8, ..., 162530, 162533, 162534], dtype=int64)"
      ]
     },
     "execution_count": 12,
     "metadata": {},
     "output_type": "execute_result"
    }
   ],
   "source": [
    "movie_id=1\n",
    "similar_users=ratings[(ratings[\"movieId\"]==movie_id) & (ratings[\"rating\"]>=4)][\"userId\"].unique()\n",
    "similar_users"
   ]
  },
  {
   "cell_type": "code",
   "execution_count": 13,
   "id": "315010de",
   "metadata": {
    "ExecuteTime": {
     "end_time": "2023-12-01T17:14:07.806295Z",
     "start_time": "2023-12-01T17:14:07.344731Z"
    }
   },
   "outputs": [
    {
     "data": {
      "text/plain": [
       "254              1\n",
       "255             29\n",
       "256             32\n",
       "257             50\n",
       "258            111\n",
       "             ...  \n",
       "24999332    166643\n",
       "24999342    171763\n",
       "24999348    177593\n",
       "24999351    177765\n",
       "24999378    198609\n",
       "Name: movieId, Length: 5101989, dtype: int64"
      ]
     },
     "execution_count": 13,
     "metadata": {},
     "output_type": "execute_result"
    }
   ],
   "source": [
    "similar_users_recs=ratings[(ratings[\"userId\"].isin(similar_users))&(ratings[\"rating\"]>=4)][\"movieId\"]\n",
    "similar_users_recs"
   ]
  },
  {
   "cell_type": "code",
   "execution_count": 14,
   "id": "aa4dcc12",
   "metadata": {
    "ExecuteTime": {
     "end_time": "2023-12-01T17:14:07.949822Z",
     "start_time": "2023-12-01T17:14:07.808425Z"
    }
   },
   "outputs": [],
   "source": [
    "similar_users_recs=similar_users_recs.value_counts()/len(similar_users)"
   ]
  },
  {
   "cell_type": "code",
   "execution_count": 15,
   "id": "5503aae0",
   "metadata": {
    "ExecuteTime": {
     "end_time": "2023-12-01T17:14:07.959576Z",
     "start_time": "2023-12-01T17:14:07.951954Z"
    }
   },
   "outputs": [],
   "source": [
    "similar_users_recs=similar_users_recs[similar_users_recs>0.15]"
   ]
  },
  {
   "cell_type": "code",
   "execution_count": 16,
   "id": "4a71a374",
   "metadata": {
    "ExecuteTime": {
     "end_time": "2023-12-01T17:14:07.977498Z",
     "start_time": "2023-12-01T17:14:07.959833Z"
    }
   },
   "outputs": [
    {
     "data": {
      "text/plain": [
       "1        1.000000\n",
       "318      0.549604\n",
       "260      0.531518\n",
       "356      0.517224\n",
       "296      0.495744\n",
       "           ...   \n",
       "4022     0.152616\n",
       "2797     0.152139\n",
       "50872    0.152059\n",
       "2987     0.151290\n",
       "500      0.150415\n",
       "Name: movieId, Length: 143, dtype: float64"
      ]
     },
     "execution_count": 16,
     "metadata": {},
     "output_type": "execute_result"
    }
   ],
   "source": [
    "similar_users_recs"
   ]
  },
  {
   "cell_type": "code",
   "execution_count": 17,
   "id": "d29765b1",
   "metadata": {
    "ExecuteTime": {
     "end_time": "2023-12-01T17:14:08.630966Z",
     "start_time": "2023-12-01T17:14:07.983696Z"
    }
   },
   "outputs": [],
   "source": [
    "all_users=ratings[(ratings[\"movieId\"].isin(similar_users_recs.index))&(ratings[\"rating\"]>4)]"
   ]
  },
  {
   "cell_type": "code",
   "execution_count": 18,
   "id": "36c72d38",
   "metadata": {
    "ExecuteTime": {
     "end_time": "2023-12-01T17:14:08.690167Z",
     "start_time": "2023-12-01T17:14:08.633216Z"
    }
   },
   "outputs": [],
   "source": [
    "all_users_recs=all_users[\"movieId\"].value_counts()/len(all_users[\"userId\"].unique())"
   ]
  },
  {
   "cell_type": "code",
   "execution_count": 19,
   "id": "45904717",
   "metadata": {
    "ExecuteTime": {
     "end_time": "2023-12-01T17:14:08.710381Z",
     "start_time": "2023-12-01T17:14:08.691523Z"
    }
   },
   "outputs": [
    {
     "data": {
      "text/plain": [
       "318     0.338752\n",
       "296     0.281789\n",
       "2571    0.241560\n",
       "356     0.232881\n",
       "593     0.223619\n",
       "          ...   \n",
       "648     0.029144\n",
       "1393    0.027577\n",
       "2987    0.025421\n",
       "2797    0.025401\n",
       "2355    0.024837\n",
       "Name: movieId, Length: 143, dtype: float64"
      ]
     },
     "execution_count": 19,
     "metadata": {},
     "output_type": "execute_result"
    }
   ],
   "source": [
    "all_users_recs"
   ]
  },
  {
   "cell_type": "code",
   "execution_count": 20,
   "id": "ecf41390",
   "metadata": {
    "ExecuteTime": {
     "end_time": "2023-12-01T17:14:08.731123Z",
     "start_time": "2023-12-01T17:14:08.716392Z"
    }
   },
   "outputs": [],
   "source": [
    "rec_perc=pd.concat([similar_users_recs,all_users_recs],axis=1)\n",
    "rec_perc.columns=['similar','all']"
   ]
  },
  {
   "cell_type": "code",
   "execution_count": 21,
   "id": "8b71e2cc",
   "metadata": {
    "ExecuteTime": {
     "end_time": "2023-12-01T17:14:08.750100Z",
     "start_time": "2023-12-01T17:14:08.733615Z"
    }
   },
   "outputs": [
    {
     "data": {
      "text/html": [
       "<div>\n",
       "<style scoped>\n",
       "    .dataframe tbody tr th:only-of-type {\n",
       "        vertical-align: middle;\n",
       "    }\n",
       "\n",
       "    .dataframe tbody tr th {\n",
       "        vertical-align: top;\n",
       "    }\n",
       "\n",
       "    .dataframe thead th {\n",
       "        text-align: right;\n",
       "    }\n",
       "</style>\n",
       "<table border=\"1\" class=\"dataframe\">\n",
       "  <thead>\n",
       "    <tr style=\"text-align: right;\">\n",
       "      <th></th>\n",
       "      <th>similar</th>\n",
       "      <th>all</th>\n",
       "    </tr>\n",
       "  </thead>\n",
       "  <tbody>\n",
       "    <tr>\n",
       "      <th>1</th>\n",
       "      <td>1.000000</td>\n",
       "      <td>0.123464</td>\n",
       "    </tr>\n",
       "    <tr>\n",
       "      <th>318</th>\n",
       "      <td>0.549604</td>\n",
       "      <td>0.338752</td>\n",
       "    </tr>\n",
       "    <tr>\n",
       "      <th>260</th>\n",
       "      <td>0.531518</td>\n",
       "      <td>0.219955</td>\n",
       "    </tr>\n",
       "    <tr>\n",
       "      <th>356</th>\n",
       "      <td>0.517224</td>\n",
       "      <td>0.232881</td>\n",
       "    </tr>\n",
       "    <tr>\n",
       "      <th>296</th>\n",
       "      <td>0.495744</td>\n",
       "      <td>0.281789</td>\n",
       "    </tr>\n",
       "    <tr>\n",
       "      <th>...</th>\n",
       "      <td>...</td>\n",
       "      <td>...</td>\n",
       "    </tr>\n",
       "    <tr>\n",
       "      <th>4022</th>\n",
       "      <td>0.152616</td>\n",
       "      <td>0.035220</td>\n",
       "    </tr>\n",
       "    <tr>\n",
       "      <th>2797</th>\n",
       "      <td>0.152139</td>\n",
       "      <td>0.025401</td>\n",
       "    </tr>\n",
       "    <tr>\n",
       "      <th>50872</th>\n",
       "      <td>0.152059</td>\n",
       "      <td>0.038714</td>\n",
       "    </tr>\n",
       "    <tr>\n",
       "      <th>2987</th>\n",
       "      <td>0.151290</td>\n",
       "      <td>0.025421</td>\n",
       "    </tr>\n",
       "    <tr>\n",
       "      <th>500</th>\n",
       "      <td>0.150415</td>\n",
       "      <td>0.030455</td>\n",
       "    </tr>\n",
       "  </tbody>\n",
       "</table>\n",
       "<p>143 rows × 2 columns</p>\n",
       "</div>"
      ],
      "text/plain": [
       "        similar       all\n",
       "1      1.000000  0.123464\n",
       "318    0.549604  0.338752\n",
       "260    0.531518  0.219955\n",
       "356    0.517224  0.232881\n",
       "296    0.495744  0.281789\n",
       "...         ...       ...\n",
       "4022   0.152616  0.035220\n",
       "2797   0.152139  0.025401\n",
       "50872  0.152059  0.038714\n",
       "2987   0.151290  0.025421\n",
       "500    0.150415  0.030455\n",
       "\n",
       "[143 rows x 2 columns]"
      ]
     },
     "execution_count": 21,
     "metadata": {},
     "output_type": "execute_result"
    }
   ],
   "source": [
    "rec_perc"
   ]
  },
  {
   "cell_type": "code",
   "execution_count": 22,
   "id": "d4ce2b73",
   "metadata": {
    "ExecuteTime": {
     "end_time": "2023-12-01T17:14:08.777940Z",
     "start_time": "2023-12-01T17:14:08.750100Z"
    }
   },
   "outputs": [
    {
     "data": {
      "text/html": [
       "<div>\n",
       "<style scoped>\n",
       "    .dataframe tbody tr th:only-of-type {\n",
       "        vertical-align: middle;\n",
       "    }\n",
       "\n",
       "    .dataframe tbody tr th {\n",
       "        vertical-align: top;\n",
       "    }\n",
       "\n",
       "    .dataframe thead th {\n",
       "        text-align: right;\n",
       "    }\n",
       "</style>\n",
       "<table border=\"1\" class=\"dataframe\">\n",
       "  <thead>\n",
       "    <tr style=\"text-align: right;\">\n",
       "      <th></th>\n",
       "      <th>similar</th>\n",
       "      <th>all</th>\n",
       "      <th>score</th>\n",
       "    </tr>\n",
       "  </thead>\n",
       "  <tbody>\n",
       "    <tr>\n",
       "      <th>1</th>\n",
       "      <td>1.000000</td>\n",
       "      <td>0.123464</td>\n",
       "      <td>8.099496</td>\n",
       "    </tr>\n",
       "    <tr>\n",
       "      <th>2355</th>\n",
       "      <td>0.191095</td>\n",
       "      <td>0.024837</td>\n",
       "      <td>7.693930</td>\n",
       "    </tr>\n",
       "    <tr>\n",
       "      <th>648</th>\n",
       "      <td>0.187382</td>\n",
       "      <td>0.029144</td>\n",
       "      <td>6.429582</td>\n",
       "    </tr>\n",
       "    <tr>\n",
       "      <th>3114</th>\n",
       "      <td>0.328914</td>\n",
       "      <td>0.053162</td>\n",
       "      <td>6.187062</td>\n",
       "    </tr>\n",
       "    <tr>\n",
       "      <th>592</th>\n",
       "      <td>0.200642</td>\n",
       "      <td>0.033142</td>\n",
       "      <td>6.053936</td>\n",
       "    </tr>\n",
       "    <tr>\n",
       "      <th>...</th>\n",
       "      <td>...</td>\n",
       "      <td>...</td>\n",
       "      <td>...</td>\n",
       "    </tr>\n",
       "    <tr>\n",
       "      <th>58559</th>\n",
       "      <td>0.252327</td>\n",
       "      <td>0.144985</td>\n",
       "      <td>1.740370</td>\n",
       "    </tr>\n",
       "    <tr>\n",
       "      <th>858</th>\n",
       "      <td>0.355883</td>\n",
       "      <td>0.207926</td>\n",
       "      <td>1.711583</td>\n",
       "    </tr>\n",
       "    <tr>\n",
       "      <th>2959</th>\n",
       "      <td>0.351826</td>\n",
       "      <td>0.214521</td>\n",
       "      <td>1.640055</td>\n",
       "    </tr>\n",
       "    <tr>\n",
       "      <th>318</th>\n",
       "      <td>0.549604</td>\n",
       "      <td>0.338752</td>\n",
       "      <td>1.622435</td>\n",
       "    </tr>\n",
       "    <tr>\n",
       "      <th>79132</th>\n",
       "      <td>0.209870</td>\n",
       "      <td>0.130052</td>\n",
       "      <td>1.613738</td>\n",
       "    </tr>\n",
       "  </tbody>\n",
       "</table>\n",
       "<p>143 rows × 3 columns</p>\n",
       "</div>"
      ],
      "text/plain": [
       "        similar       all     score\n",
       "1      1.000000  0.123464  8.099496\n",
       "2355   0.191095  0.024837  7.693930\n",
       "648    0.187382  0.029144  6.429582\n",
       "3114   0.328914  0.053162  6.187062\n",
       "592    0.200642  0.033142  6.053936\n",
       "...         ...       ...       ...\n",
       "58559  0.252327  0.144985  1.740370\n",
       "858    0.355883  0.207926  1.711583\n",
       "2959   0.351826  0.214521  1.640055\n",
       "318    0.549604  0.338752  1.622435\n",
       "79132  0.209870  0.130052  1.613738\n",
       "\n",
       "[143 rows x 3 columns]"
      ]
     },
     "execution_count": 22,
     "metadata": {},
     "output_type": "execute_result"
    }
   ],
   "source": [
    "rec_perc[\"score\"]=rec_perc[\"similar\"]/rec_perc[\"all\"]\n",
    "rec_perc=rec_perc.sort_values(\"score\",ascending=False)\n",
    "rec_perc"
   ]
  },
  {
   "cell_type": "code",
   "execution_count": 23,
   "id": "05ab45c1",
   "metadata": {
    "ExecuteTime": {
     "end_time": "2023-12-01T17:14:08.823686Z",
     "start_time": "2023-12-01T17:14:08.781969Z"
    }
   },
   "outputs": [
    {
     "data": {
      "text/html": [
       "<div>\n",
       "<style scoped>\n",
       "    .dataframe tbody tr th:only-of-type {\n",
       "        vertical-align: middle;\n",
       "    }\n",
       "\n",
       "    .dataframe tbody tr th {\n",
       "        vertical-align: top;\n",
       "    }\n",
       "\n",
       "    .dataframe thead th {\n",
       "        text-align: right;\n",
       "    }\n",
       "</style>\n",
       "<table border=\"1\" class=\"dataframe\">\n",
       "  <thead>\n",
       "    <tr style=\"text-align: right;\">\n",
       "      <th></th>\n",
       "      <th>similar</th>\n",
       "      <th>all</th>\n",
       "      <th>score</th>\n",
       "      <th>movieId</th>\n",
       "      <th>title</th>\n",
       "      <th>genres</th>\n",
       "      <th>clean_title</th>\n",
       "    </tr>\n",
       "  </thead>\n",
       "  <tbody>\n",
       "    <tr>\n",
       "      <th>0</th>\n",
       "      <td>1.000000</td>\n",
       "      <td>0.123464</td>\n",
       "      <td>8.099496</td>\n",
       "      <td>1</td>\n",
       "      <td>Toy Story (1995)</td>\n",
       "      <td>Adventure|Animation|Children|Comedy|Fantasy</td>\n",
       "      <td>Toy Story 1995</td>\n",
       "    </tr>\n",
       "    <tr>\n",
       "      <th>2264</th>\n",
       "      <td>0.191095</td>\n",
       "      <td>0.024837</td>\n",
       "      <td>7.693930</td>\n",
       "      <td>2355</td>\n",
       "      <td>Bug's Life, A (1998)</td>\n",
       "      <td>Adventure|Animation|Children|Comedy</td>\n",
       "      <td>Bugs Life A 1998</td>\n",
       "    </tr>\n",
       "    <tr>\n",
       "      <th>637</th>\n",
       "      <td>0.187382</td>\n",
       "      <td>0.029144</td>\n",
       "      <td>6.429582</td>\n",
       "      <td>648</td>\n",
       "      <td>Mission: Impossible (1996)</td>\n",
       "      <td>Action|Adventure|Mystery|Thriller</td>\n",
       "      <td>Mission Impossible 1996</td>\n",
       "    </tr>\n",
       "    <tr>\n",
       "      <th>3021</th>\n",
       "      <td>0.328914</td>\n",
       "      <td>0.053162</td>\n",
       "      <td>6.187062</td>\n",
       "      <td>3114</td>\n",
       "      <td>Toy Story 2 (1999)</td>\n",
       "      <td>Adventure|Animation|Children|Comedy|Fantasy</td>\n",
       "      <td>Toy Story 2 1999</td>\n",
       "    </tr>\n",
       "    <tr>\n",
       "      <th>584</th>\n",
       "      <td>0.200642</td>\n",
       "      <td>0.033142</td>\n",
       "      <td>6.053936</td>\n",
       "      <td>592</td>\n",
       "      <td>Batman (1989)</td>\n",
       "      <td>Action|Crime|Thriller</td>\n",
       "      <td>Batman 1989</td>\n",
       "    </tr>\n",
       "    <tr>\n",
       "      <th>...</th>\n",
       "      <td>...</td>\n",
       "      <td>...</td>\n",
       "      <td>...</td>\n",
       "      <td>...</td>\n",
       "      <td>...</td>\n",
       "      <td>...</td>\n",
       "      <td>...</td>\n",
       "    </tr>\n",
       "    <tr>\n",
       "      <th>12221</th>\n",
       "      <td>0.252327</td>\n",
       "      <td>0.144985</td>\n",
       "      <td>1.740370</td>\n",
       "      <td>58559</td>\n",
       "      <td>Dark Knight, The (2008)</td>\n",
       "      <td>Action|Crime|Drama|IMAX</td>\n",
       "      <td>Dark Knight The 2008</td>\n",
       "    </tr>\n",
       "    <tr>\n",
       "      <th>840</th>\n",
       "      <td>0.355883</td>\n",
       "      <td>0.207926</td>\n",
       "      <td>1.711583</td>\n",
       "      <td>858</td>\n",
       "      <td>Godfather, The (1972)</td>\n",
       "      <td>Crime|Drama</td>\n",
       "      <td>Godfather The 1972</td>\n",
       "    </tr>\n",
       "    <tr>\n",
       "      <th>2867</th>\n",
       "      <td>0.351826</td>\n",
       "      <td>0.214521</td>\n",
       "      <td>1.640055</td>\n",
       "      <td>2959</td>\n",
       "      <td>Fight Club (1999)</td>\n",
       "      <td>Action|Crime|Drama|Thriller</td>\n",
       "      <td>Fight Club 1999</td>\n",
       "    </tr>\n",
       "    <tr>\n",
       "      <th>314</th>\n",
       "      <td>0.549604</td>\n",
       "      <td>0.338752</td>\n",
       "      <td>1.622435</td>\n",
       "      <td>318</td>\n",
       "      <td>Shawshank Redemption, The (1994)</td>\n",
       "      <td>Crime|Drama</td>\n",
       "      <td>Shawshank Redemption The 1994</td>\n",
       "    </tr>\n",
       "    <tr>\n",
       "      <th>14937</th>\n",
       "      <td>0.209870</td>\n",
       "      <td>0.130052</td>\n",
       "      <td>1.613738</td>\n",
       "      <td>79132</td>\n",
       "      <td>Inception (2010)</td>\n",
       "      <td>Action|Crime|Drama|Mystery|Sci-Fi|Thriller|IMAX</td>\n",
       "      <td>Inception 2010</td>\n",
       "    </tr>\n",
       "  </tbody>\n",
       "</table>\n",
       "<p>143 rows × 7 columns</p>\n",
       "</div>"
      ],
      "text/plain": [
       "        similar       all     score  movieId  \\\n",
       "0      1.000000  0.123464  8.099496        1   \n",
       "2264   0.191095  0.024837  7.693930     2355   \n",
       "637    0.187382  0.029144  6.429582      648   \n",
       "3021   0.328914  0.053162  6.187062     3114   \n",
       "584    0.200642  0.033142  6.053936      592   \n",
       "...         ...       ...       ...      ...   \n",
       "12221  0.252327  0.144985  1.740370    58559   \n",
       "840    0.355883  0.207926  1.711583      858   \n",
       "2867   0.351826  0.214521  1.640055     2959   \n",
       "314    0.549604  0.338752  1.622435      318   \n",
       "14937  0.209870  0.130052  1.613738    79132   \n",
       "\n",
       "                                  title  \\\n",
       "0                      Toy Story (1995)   \n",
       "2264               Bug's Life, A (1998)   \n",
       "637          Mission: Impossible (1996)   \n",
       "3021                 Toy Story 2 (1999)   \n",
       "584                       Batman (1989)   \n",
       "...                                 ...   \n",
       "12221           Dark Knight, The (2008)   \n",
       "840               Godfather, The (1972)   \n",
       "2867                  Fight Club (1999)   \n",
       "314    Shawshank Redemption, The (1994)   \n",
       "14937                  Inception (2010)   \n",
       "\n",
       "                                                genres  \\\n",
       "0          Adventure|Animation|Children|Comedy|Fantasy   \n",
       "2264               Adventure|Animation|Children|Comedy   \n",
       "637                  Action|Adventure|Mystery|Thriller   \n",
       "3021       Adventure|Animation|Children|Comedy|Fantasy   \n",
       "584                              Action|Crime|Thriller   \n",
       "...                                                ...   \n",
       "12221                          Action|Crime|Drama|IMAX   \n",
       "840                                        Crime|Drama   \n",
       "2867                       Action|Crime|Drama|Thriller   \n",
       "314                                        Crime|Drama   \n",
       "14937  Action|Crime|Drama|Mystery|Sci-Fi|Thriller|IMAX   \n",
       "\n",
       "                         clean_title  \n",
       "0                     Toy Story 1995  \n",
       "2264                Bugs Life A 1998  \n",
       "637          Mission Impossible 1996  \n",
       "3021                Toy Story 2 1999  \n",
       "584                      Batman 1989  \n",
       "...                              ...  \n",
       "12221           Dark Knight The 2008  \n",
       "840               Godfather The 1972  \n",
       "2867                 Fight Club 1999  \n",
       "314    Shawshank Redemption The 1994  \n",
       "14937                 Inception 2010  \n",
       "\n",
       "[143 rows x 7 columns]"
      ]
     },
     "execution_count": 23,
     "metadata": {},
     "output_type": "execute_result"
    }
   ],
   "source": [
    "rec_perc.merge(movies, left_index=True,right_on=\"movieId\")"
   ]
  },
  {
   "cell_type": "code",
   "execution_count": 24,
   "id": "63fa7730",
   "metadata": {
    "ExecuteTime": {
     "end_time": "2023-12-01T17:14:08.849314Z",
     "start_time": "2023-12-01T17:14:08.826234Z"
    }
   },
   "outputs": [
    {
     "data": {
      "text/html": [
       "<div>\n",
       "<style scoped>\n",
       "    .dataframe tbody tr th:only-of-type {\n",
       "        vertical-align: middle;\n",
       "    }\n",
       "\n",
       "    .dataframe tbody tr th {\n",
       "        vertical-align: top;\n",
       "    }\n",
       "\n",
       "    .dataframe thead th {\n",
       "        text-align: right;\n",
       "    }\n",
       "</style>\n",
       "<table border=\"1\" class=\"dataframe\">\n",
       "  <thead>\n",
       "    <tr style=\"text-align: right;\">\n",
       "      <th></th>\n",
       "      <th>movieId</th>\n",
       "      <th>title</th>\n",
       "      <th>genres</th>\n",
       "      <th>clean_title</th>\n",
       "    </tr>\n",
       "  </thead>\n",
       "  <tbody>\n",
       "    <tr>\n",
       "      <th>0</th>\n",
       "      <td>1</td>\n",
       "      <td>Toy Story (1995)</td>\n",
       "      <td>Adventure|Animation|Children|Comedy|Fantasy</td>\n",
       "      <td>Toy Story 1995</td>\n",
       "    </tr>\n",
       "    <tr>\n",
       "      <th>1</th>\n",
       "      <td>2</td>\n",
       "      <td>Jumanji (1995)</td>\n",
       "      <td>Adventure|Children|Fantasy</td>\n",
       "      <td>Jumanji 1995</td>\n",
       "    </tr>\n",
       "    <tr>\n",
       "      <th>2</th>\n",
       "      <td>3</td>\n",
       "      <td>Grumpier Old Men (1995)</td>\n",
       "      <td>Comedy|Romance</td>\n",
       "      <td>Grumpier Old Men 1995</td>\n",
       "    </tr>\n",
       "    <tr>\n",
       "      <th>3</th>\n",
       "      <td>4</td>\n",
       "      <td>Waiting to Exhale (1995)</td>\n",
       "      <td>Comedy|Drama|Romance</td>\n",
       "      <td>Waiting to Exhale 1995</td>\n",
       "    </tr>\n",
       "    <tr>\n",
       "      <th>4</th>\n",
       "      <td>5</td>\n",
       "      <td>Father of the Bride Part II (1995)</td>\n",
       "      <td>Comedy</td>\n",
       "      <td>Father of the Bride Part II 1995</td>\n",
       "    </tr>\n",
       "    <tr>\n",
       "      <th>...</th>\n",
       "      <td>...</td>\n",
       "      <td>...</td>\n",
       "      <td>...</td>\n",
       "      <td>...</td>\n",
       "    </tr>\n",
       "    <tr>\n",
       "      <th>62418</th>\n",
       "      <td>209157</td>\n",
       "      <td>We (2018)</td>\n",
       "      <td>Drama</td>\n",
       "      <td>We 2018</td>\n",
       "    </tr>\n",
       "    <tr>\n",
       "      <th>62419</th>\n",
       "      <td>209159</td>\n",
       "      <td>Window of the Soul (2001)</td>\n",
       "      <td>Documentary</td>\n",
       "      <td>Window of the Soul 2001</td>\n",
       "    </tr>\n",
       "    <tr>\n",
       "      <th>62420</th>\n",
       "      <td>209163</td>\n",
       "      <td>Bad Poems (2018)</td>\n",
       "      <td>Comedy|Drama</td>\n",
       "      <td>Bad Poems 2018</td>\n",
       "    </tr>\n",
       "    <tr>\n",
       "      <th>62421</th>\n",
       "      <td>209169</td>\n",
       "      <td>A Girl Thing (2001)</td>\n",
       "      <td>(no genres listed)</td>\n",
       "      <td>A Girl Thing 2001</td>\n",
       "    </tr>\n",
       "    <tr>\n",
       "      <th>62422</th>\n",
       "      <td>209171</td>\n",
       "      <td>Women of Devil's Island (1962)</td>\n",
       "      <td>Action|Adventure|Drama</td>\n",
       "      <td>Women of Devils Island 1962</td>\n",
       "    </tr>\n",
       "  </tbody>\n",
       "</table>\n",
       "<p>62423 rows × 4 columns</p>\n",
       "</div>"
      ],
      "text/plain": [
       "       movieId                               title  \\\n",
       "0            1                    Toy Story (1995)   \n",
       "1            2                      Jumanji (1995)   \n",
       "2            3             Grumpier Old Men (1995)   \n",
       "3            4            Waiting to Exhale (1995)   \n",
       "4            5  Father of the Bride Part II (1995)   \n",
       "...        ...                                 ...   \n",
       "62418   209157                           We (2018)   \n",
       "62419   209159           Window of the Soul (2001)   \n",
       "62420   209163                    Bad Poems (2018)   \n",
       "62421   209169                 A Girl Thing (2001)   \n",
       "62422   209171      Women of Devil's Island (1962)   \n",
       "\n",
       "                                            genres  \\\n",
       "0      Adventure|Animation|Children|Comedy|Fantasy   \n",
       "1                       Adventure|Children|Fantasy   \n",
       "2                                   Comedy|Romance   \n",
       "3                             Comedy|Drama|Romance   \n",
       "4                                           Comedy   \n",
       "...                                            ...   \n",
       "62418                                        Drama   \n",
       "62419                                  Documentary   \n",
       "62420                                 Comedy|Drama   \n",
       "62421                           (no genres listed)   \n",
       "62422                       Action|Adventure|Drama   \n",
       "\n",
       "                            clean_title  \n",
       "0                        Toy Story 1995  \n",
       "1                          Jumanji 1995  \n",
       "2                 Grumpier Old Men 1995  \n",
       "3                Waiting to Exhale 1995  \n",
       "4      Father of the Bride Part II 1995  \n",
       "...                                 ...  \n",
       "62418                           We 2018  \n",
       "62419           Window of the Soul 2001  \n",
       "62420                    Bad Poems 2018  \n",
       "62421                 A Girl Thing 2001  \n",
       "62422       Women of Devils Island 1962  \n",
       "\n",
       "[62423 rows x 4 columns]"
      ]
     },
     "execution_count": 24,
     "metadata": {},
     "output_type": "execute_result"
    }
   ],
   "source": [
    "movies"
   ]
  },
  {
   "cell_type": "code",
   "execution_count": 25,
   "id": "573deafe",
   "metadata": {
    "ExecuteTime": {
     "end_time": "2023-12-01T17:14:08.883706Z",
     "start_time": "2023-12-01T17:14:08.853318Z"
    }
   },
   "outputs": [],
   "source": [
    "def find_similar_m(movie_id):\n",
    "    similar_users=ratings[(ratings[\"movieId\"]==movie_id) & (ratings[\"rating\"]>=4)][\"userId\"].unique()\n",
    "    similar_users_recs=ratings[(ratings[\"userId\"].isin(similar_users))&(ratings[\"rating\"]>=4)][\"movieId\"]\n",
    "    \n",
    "    similar_users_recs=similar_users_recs.value_counts()/len(similar_users)\n",
    "    similar_users_recs=similar_users_recs[similar_users_recs>0.10]\n",
    "    \n",
    "    all_users=ratings[(ratings[\"movieId\"].isin(similar_users_recs.index))&(ratings[\"rating\"]>=4)]\n",
    "    all_users_recs=all_users[\"movieId\"].value_counts()/len(all_users[\"userId\"].unique())\n",
    "    \n",
    "    rec_perc=pd.concat([similar_users_recs,all_users_recs],axis=1)\n",
    "    rec_perc.columns=['similar','all']\n",
    "    rec_perc[\"score\"]=rec_perc[\"similar\"]/rec_perc[\"all\"]\n",
    "    rec_perc=rec_perc.sort_values(\"score\",ascending=False)\n",
    "    return rec_perc.head(10).merge(movies, left_index=True, right_on=\"movieId\")[[\"score\",\"title\",\"genres\"]]"
   ]
  },
  {
   "cell_type": "code",
   "execution_count": 26,
   "id": "eae956cc",
   "metadata": {
    "ExecuteTime": {
     "end_time": "2023-12-01T17:14:08.907517Z",
     "start_time": "2023-12-01T17:14:08.885703Z"
    }
   },
   "outputs": [
    {
     "data": {
      "application/vnd.jupyter.widget-view+json": {
       "model_id": "cbe1e5c5a11f410ba42fd25a58f7a969",
       "version_major": 2,
       "version_minor": 0
      },
      "text/plain": [
       "Text(value=' When Harry met Sally', description='Movie Title:')"
      ]
     },
     "metadata": {},
     "output_type": "display_data"
    },
    {
     "data": {
      "application/vnd.jupyter.widget-view+json": {
       "model_id": "517e725fe65e4be296d68e6bbad4461d",
       "version_major": 2,
       "version_minor": 0
      },
      "text/plain": [
       "Output()"
      ]
     },
     "metadata": {},
     "output_type": "display_data"
    }
   ],
   "source": [
    "movie_input_name=widgets.Text(\n",
    "    value=\" When Harry met Sally\",\n",
    "    description=\"Movie Title:\",\n",
    "    disabled=False\n",
    ")\n",
    "\n",
    "recommnedation_list=widgets.Output()\n",
    "\n",
    "def on_type(data):\n",
    "    with recommnedation_list:\n",
    "        recommnedation_list.clear_output()\n",
    "        title=data[\"new\"]\n",
    "        if len(title)>5:\n",
    "            results=search(title)\n",
    "            movie_id=results.iloc[0][\"movieId\"]\n",
    "            display(find_similar_m(movie_id))\n",
    "\n",
    "movie_input_name.observe(on_type,names=\"value\")\n",
    "\n",
    "display(movie_input_name,recommnedation_list)"
   ]
  },
  {
   "cell_type": "code",
   "execution_count": null,
   "id": "bd3b816a",
   "metadata": {},
   "outputs": [],
   "source": []
  }
 ],
 "metadata": {
  "kernelspec": {
   "display_name": "Python 3 (ipykernel)",
   "language": "python",
   "name": "python3"
  },
  "language_info": {
   "codemirror_mode": {
    "name": "ipython",
    "version": 3
   },
   "file_extension": ".py",
   "mimetype": "text/x-python",
   "name": "python",
   "nbconvert_exporter": "python",
   "pygments_lexer": "ipython3",
   "version": "3.10.13"
  }
 },
 "nbformat": 4,
 "nbformat_minor": 5
}
